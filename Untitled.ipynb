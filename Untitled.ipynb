{
 "cells": [
  {
   "cell_type": "code",
   "execution_count": 1,
   "metadata": {},
   "outputs": [],
   "source": [
    "from konlpy.tag import Kkma, Twitter"
   ]
  },
  {
   "cell_type": "code",
   "execution_count": 3,
   "metadata": {},
   "outputs": [],
   "source": [
    "kkma = Kkma()"
   ]
  },
  {
   "cell_type": "code",
   "execution_count": 9,
   "metadata": {},
   "outputs": [],
   "source": [
    "sen = kkma.sentences(\"블록체인을 우리 몸에 비유하면, 블록체인은 몸에 필요한 영양분을 공급하는 혈관이고, 가상화폐 (Coin)은 혈관 속에 흐르는 피의 역할을 한다고 볼 수 있고, 이해하기도 쉬울 것이다. 블록체인의 활용방안을 설계하기 위해, 우리 사회에 공유되어야 하는 정보는 몸 속의 영양소에 비유된다. 즉, 블록체인 (핏줄)을 통해 정보(영양분)를 활발하게 공유하고, 가상화폐 (피)는 정보를 전달하고, 공유하는 것을 원할하게 해주는 역할을 한다고 볼 수 있다. 블록체인기술의 특징은 크게 3가지, 탈중앙화, 투명한 정보공개, 정보 위변조 방지로 설명할 수 있다. 블록체인은 탈중앙화를 가치로 내세우며, 컴퓨팅의 중심을 중앙에서 다시 분산시스템으로 돌려놓고 있다. 이는 중앙시스템에 대한 비용을 제거할 수 있기 때문에, IT 투자비용과 관리비용을 절감효과를 얻는 장점을 제공한다. 블록체인의 두 번째 장점인 투명한 정보공개는 중앙에 관리자가 없이도, 블록체인 자체가 신뢰기반이 되고, 누구나 정보를 조회할 수 있다. 정보의 최신 업데이트 등이 블록체인에서는 자발적으로 되므로, 정보공유의 중요한 인프라로 활용될 수 있다. 마지막으로, 블록체인에 기록된 정보에 대한 임의 수정 및 위조가 불가능하므로, 금융자산 거래 뿐만 아니라 소유권 이전, 상속/증여 등 내용의 신뢰가 보장되어야 하는 모든 거래를 가능하게 해준다. 더욱이, 스마트 컨트랙트(Smart Contract) 기반의 자율화된 거래를 적용할 수 있어, 중개인이 없이 자동화된 거래를 가능하게 해준다. 블록체인을 활용하는 비즈니스를 위해서는 이 3가지 장점을 충분히 활용할 수 있는 특성을 가지는 비즈니스에 적용하면, 적은 비용으로 전 세계에 분산된 컴퓨팅의 역량을 활용하고, 분산된 원장을 관리하고, 거래의 무결성과 완결성을 보장하면서, 거래를 효율적으로 처리할 수 있다. 이 책은 크게 3개의 장의 구성된다. 1장 “가상화폐와 비트코인”에서는 가상화폐에 적용된 블록체인의 핵심기술을 이해하는 데, 도움을 주고자 한다. 탈중앙화된 가상화폐 비트코인의 탄생배경과, 블록체인의 기반 기술인 분산원장과 합의알고리즘, 작업증명(PoW)과 지분증명(PoS), 데이터 압축저장을 위한 머클트리 기술을 설명한다. 또한, 가상화폐로 불려지는 암호화폐 기술의 기반이 되는 해시함수, 채굴방식, 전자지갑주소 생성, 공개키 암호화와 전자서명에 대해서 논의한다. 2017년 가상화폐의 급등으로 높아진 관심도에 비례하여, 블록체인 기술을 다른 분야에 응용하기 위한 사회분위기가 높아져서, 블록체인 기술이 가지는 장점을 다루면서, 블록체인 혁신에 대한 준비를 할 수 있다. 2장 “비트코인은 가상화폐인가? 금융상품인가?” 에서는 가상화폐의 투기논란으로 중요한 블록체인 기술이 등한시 되는 우를 범하지 않기를 바라면서, 가상화폐의 금융상품으로서의 가치를 논하고자 한다. 블록체인 발 비즈니스 혁신이 성공적으로 운영되기 위해서는 가상화페가 “화폐” 라는 개념보다는 탈중앙화된 블록체인 기반 응용서비스에서 대중들의 참여를 유도하는 “코인”으로서 역할을 설명하고자 한다. 가상화폐는 국내법(전자금융거래법)에서 전자화폐로 인정되지 못하는 이유와 코인으로서의 가치를 논한다. 2018년 1월초부터 급락하는 비트코인 버블과 가상화폐 거래소와 해킹, 하드포크(Hardfork)로 인해 생겨난 비트코인 캐시의 문제에도 불구하고, 핀테크 간편결제 보다는 대중들의 관심을 받는 이유가 되는 ICO에 대해서 논의한다. 마지막 3장 “블록체인 기반 비즈니스 혁신”에서는 스마트계약과 Dapp으로 인해, 바뀌는 일하는 방식을 통해 블록체인 비즈니스 모델과 응용사례를 보여준다. 난립하는 가상화폐와 블록체인으로 인한 이슈를 다루면서 블록체인 기술 검증에 대한 필요성과 검증방안을 논한다. 마지막으로 이더리움 기반의 가상화폐를 만드는 코딩 사례와 프라이빗 블록체인의 스마트 계약 만드는 사례를 통해, 블록체인의 코딩을 살펴본다.\")"
   ]
  },
  {
   "cell_type": "code",
   "execution_count": 10,
   "metadata": {},
   "outputs": [
    {
     "data": {
      "text/plain": [
       "25"
      ]
     },
     "execution_count": 10,
     "metadata": {},
     "output_type": "execute_result"
    }
   ],
   "source": [
    "len(sen)"
   ]
  },
  {
   "cell_type": "code",
   "execution_count": 6,
   "metadata": {},
   "outputs": [],
   "source": [
    "twitter = Twitter()"
   ]
  },
  {
   "cell_type": "code",
   "execution_count": 7,
   "metadata": {},
   "outputs": [
    {
     "ename": "AttributeError",
     "evalue": "'Okt' object has no attribute 'sentenceSplitter'",
     "output_type": "error",
     "traceback": [
      "\u001b[0;31m---------------------------------------------------------------------------\u001b[0m",
      "\u001b[0;31mAttributeError\u001b[0m                            Traceback (most recent call last)",
      "\u001b[0;32m<ipython-input-7-4a72954de385>\u001b[0m in \u001b[0;36m<module>\u001b[0;34m\u001b[0m\n\u001b[0;32m----> 1\u001b[0;31m \u001b[0mtwitter\u001b[0m\u001b[0;34m.\u001b[0m\u001b[0msentenceSplitter\u001b[0m\u001b[0;34m(\u001b[0m\u001b[0;34m\"가나\"\u001b[0m\u001b[0;34m)\u001b[0m\u001b[0;34m\u001b[0m\u001b[0m\n\u001b[0m",
      "\u001b[0;31mAttributeError\u001b[0m: 'Okt' object has no attribute 'sentenceSplitter'"
     ]
    }
   ],
   "source": [
    "twitter.sentenceSplitter(\"가나\")"
   ]
  },
  {
   "cell_type": "code",
   "execution_count": null,
   "metadata": {},
   "outputs": [],
   "source": []
  }
 ],
 "metadata": {
  "kernelspec": {
   "display_name": "Python 3",
   "language": "python",
   "name": "python3"
  },
  "language_info": {
   "codemirror_mode": {
    "name": "ipython",
    "version": 3
   },
   "file_extension": ".py",
   "mimetype": "text/x-python",
   "name": "python",
   "nbconvert_exporter": "python",
   "pygments_lexer": "ipython3",
   "version": "3.6.6"
  }
 },
 "nbformat": 4,
 "nbformat_minor": 2
}
